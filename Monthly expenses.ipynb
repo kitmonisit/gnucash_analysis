{
 "metadata": {
  "name": "",
  "signature": "sha256:472d09063cc29ca5bc36131d1ee4867ff073afda9f2aef2f61aff703f79ca594"
 },
 "nbformat": 3,
 "nbformat_minor": 0,
 "worksheets": [
  {
   "cells": [
    {
     "cell_type": "code",
     "collapsed": false,
     "input": [
      "%pylab inline\n",
      "import gnucash_pandas\n",
      "import matplotlib.pyplot as plt\n",
      "import pandas as pd"
     ],
     "language": "python",
     "metadata": {},
     "outputs": []
    },
    {
     "cell_type": "code",
     "collapsed": false,
     "input": [
      "gnucash_file = raw_input(\"Path to GnuCash file to load \")\n",
      "df = gnucash_pandas.splits_dataframe(gnucash_file)"
     ],
     "language": "python",
     "metadata": {},
     "outputs": []
    },
    {
     "cell_type": "code",
     "collapsed": false,
     "input": [
      "expenses = gnucash_pandas.daily(df, 'Expense')\n",
      "expenses"
     ],
     "language": "python",
     "metadata": {},
     "outputs": []
    },
    {
     "cell_type": "code",
     "collapsed": false,
     "input": [
      "monthly_expenses = pd.rolling_sum(expenses, 31)\n",
      "monthly_expenses"
     ],
     "language": "python",
     "metadata": {},
     "outputs": []
    },
    {
     "cell_type": "code",
     "collapsed": false,
     "input": [
      "total_monthly_expenses = monthly_expenses.sum(axis=1) # axis=1 means sum columns\n",
      "total_monthly_expenses.loc[total_monthly_expenses.index > '2015-01-01'].plot(figsize=(16,8))"
     ],
     "language": "python",
     "metadata": {},
     "outputs": []
    },
    {
     "cell_type": "code",
     "collapsed": false,
     "input": [],
     "language": "python",
     "metadata": {},
     "outputs": []
    }
   ],
   "metadata": {}
  }
 ]
}