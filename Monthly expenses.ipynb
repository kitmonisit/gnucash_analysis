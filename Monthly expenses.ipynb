{
 "metadata": {
  "name": "",
  "signature": "sha256:2a95c8715537dfbf83361c34958432ce55fe828e410124d0138cf77458b0b5ba"
 },
 "nbformat": 3,
 "nbformat_minor": 0,
 "worksheets": [
  {
   "cells": [
    {
     "cell_type": "code",
     "collapsed": false,
     "input": [
      "%pylab inline\n",
      "import gnucash_pandas\n",
      "import matplotlib.pyplot as plt\n",
      "import pandas as pd"
     ],
     "language": "python",
     "metadata": {},
     "outputs": []
    },
    {
     "cell_type": "code",
     "collapsed": false,
     "input": [
      "gnucash_file = raw_input(\"Path to GnuCash file to load \")\n",
      "df = gnucash_pandas.splits_dataframe(gnucash_file)"
     ],
     "language": "python",
     "metadata": {},
     "outputs": []
    },
    {
     "cell_type": "code",
     "collapsed": false,
     "input": [
      "expenses = gnucash_pandas.daily(df, 'Expense')\n",
      "expenses"
     ],
     "language": "python",
     "metadata": {},
     "outputs": []
    },
    {
     "cell_type": "code",
     "collapsed": false,
     "input": [
      "monthly_expenses = pd.rolling_sum(expenses, 31)\n",
      "monthly_expenses"
     ],
     "language": "python",
     "metadata": {},
     "outputs": []
    },
    {
     "cell_type": "code",
     "collapsed": false,
     "input": [
      "plt = monthly_expenses.loc[monthly_expenses.index > '2015-01-01'].plot(figsize=(16,8))\n",
      "plt.legend(loc='lower center', ncol=4, bbox_to_anchor=(0.5,-0.55))\n",
      "plt"
     ],
     "language": "python",
     "metadata": {},
     "outputs": []
    },
    {
     "cell_type": "code",
     "collapsed": false,
     "input": [
      "total_monthly_expenses = monthly_expenses.sum(axis=1) # axis=1 means sum columns\n",
      "total_monthly_expenses.loc[total_monthly_expenses.index > '2015-01-01'].plot(figsize=(16,8))"
     ],
     "language": "python",
     "metadata": {},
     "outputs": []
    },
    {
     "cell_type": "code",
     "collapsed": false,
     "input": [
      "income = -gnucash_pandas.daily(df, 'Income')\n",
      "income"
     ],
     "language": "python",
     "metadata": {},
     "outputs": []
    },
    {
     "cell_type": "code",
     "collapsed": false,
     "input": [
      "monthly_income = pd.rolling_sum(income, 31)\n",
      "monthly_income"
     ],
     "language": "python",
     "metadata": {},
     "outputs": []
    },
    {
     "cell_type": "code",
     "collapsed": false,
     "input": [
      "plt = monthly_income.loc[monthly_income.index > '2015-01-01'].plot(figsize=(16,8))\n",
      "plt.legend(loc='lower center', ncol=4, bbox_to_anchor=(0.5,-0.25))\n",
      "plt"
     ],
     "language": "python",
     "metadata": {},
     "outputs": []
    },
    {
     "cell_type": "code",
     "collapsed": false,
     "input": [
      "total_monthly_income = monthly_income.sum(axis=1) # axis=1 means sum columns\n",
      "total_monthly_income.loc[total_monthly_income.index > '2015-01-01'].plot(figsize=(16,8))"
     ],
     "language": "python",
     "metadata": {},
     "outputs": []
    },
    {
     "cell_type": "code",
     "collapsed": false,
     "input": [
      "pct_expenses = total_monthly_expenses/total_monthly_income\n",
      "pct_expenses.loc[pct_expenses.index > '2015-01-01'].plot(figsize=(16,8), ylim=(0,2))"
     ],
     "language": "python",
     "metadata": {},
     "outputs": []
    },
    {
     "cell_type": "code",
     "collapsed": false,
     "input": [
      "taxes = [\n",
      "    \"CA Private Disability Employee\",\n",
      "    \"CA State Income Tax\",\n",
      "    \"Employee Medicare\",\n",
      "    \"Federal Income Tax\",\n",
      "    \"Social Security Employee Tax\", \n",
      "    \"Taxes\",\n",
      "]\n",
      "tax_free_expenses = monthly_expenses.drop(taxes, axis=1)\n",
      "tax_free_expenses"
     ],
     "language": "python",
     "metadata": {},
     "outputs": []
    },
    {
     "cell_type": "code",
     "collapsed": false,
     "input": [
      "plt = tax_free_expenses.loc[tax_free_expenses.index > '2015-01-01'].plot(figsize=(16,8))\n",
      "plt.legend(loc='lower center', ncol=4, bbox_to_anchor=(0.5,-0.55))\n",
      "plt"
     ],
     "language": "python",
     "metadata": {},
     "outputs": []
    },
    {
     "cell_type": "code",
     "collapsed": false,
     "input": [
      "total_tax_free_expenses = tax_free_expenses.sum(axis=1) # axis=1 means sum columns\n",
      "total_tax_free_expenses.loc[total_monthly_expenses.index > '2015-01-01'].plot(figsize=(16,8))"
     ],
     "language": "python",
     "metadata": {},
     "outputs": []
    },
    {
     "cell_type": "code",
     "collapsed": false,
     "input": [
      "total_tax_expenses = total_monthly_expenses - total_tax_free_expenses\n",
      "total_after_tax_income = total_monthly_income - total_tax_expenses\n",
      "total_after_tax_income.loc[total_after_tax_income.index > '2015-01-01'].plot(figsize=(16,8))"
     ],
     "language": "python",
     "metadata": {},
     "outputs": []
    },
    {
     "cell_type": "code",
     "collapsed": false,
     "input": [
      "after_tax_pct_expenses = total_tax_free_expenses/total_after_tax_income\n",
      "after_tax_pct_expenses.loc[after_tax_pct_expenses.index > '2015-01-01'].plot(figsize=(16,8), ylim=(0,2))"
     ],
     "language": "python",
     "metadata": {},
     "outputs": []
    },
    {
     "cell_type": "code",
     "collapsed": false,
     "input": [],
     "language": "python",
     "metadata": {},
     "outputs": []
    }
   ],
   "metadata": {}
  }
 ]
}