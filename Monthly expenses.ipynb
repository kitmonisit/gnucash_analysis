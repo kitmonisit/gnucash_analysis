{
 "metadata": {
  "name": "",
  "signature": "sha256:dd199775b775478de7df021a52666ad003df1d817be5183bc1d5b105c502a92b"
 },
 "nbformat": 3,
 "nbformat_minor": 0,
 "worksheets": [
  {
   "cells": [
    {
     "cell_type": "code",
     "collapsed": false,
     "input": [
      "%pylab inline\n",
      "import gnucash_pandas\n",
      "import matplotlib.pyplot as plt\n",
      "import pandas as pd\n",
      "\n",
      "def plot_df(df, **kwargs):\n",
      "    return df.loc[df.index > '2015-01-01'].plot(figsize=(16,8), grid=True, **kwargs)"
     ],
     "language": "python",
     "metadata": {},
     "outputs": []
    },
    {
     "cell_type": "code",
     "collapsed": false,
     "input": [
      "gnucash_file = raw_input(\"Path to GnuCash file to load \")\n",
      "df = gnucash_pandas.splits_dataframe(gnucash_file)"
     ],
     "language": "python",
     "metadata": {},
     "outputs": []
    },
    {
     "cell_type": "code",
     "collapsed": false,
     "input": [
      "expenses = gnucash_pandas.daily(df, 'Expense')\n",
      "expenses"
     ],
     "language": "python",
     "metadata": {},
     "outputs": []
    },
    {
     "cell_type": "code",
     "collapsed": false,
     "input": [
      "monthly_expenses = pd.rolling_sum(expenses, 31)\n",
      "monthly_expenses"
     ],
     "language": "python",
     "metadata": {},
     "outputs": []
    },
    {
     "cell_type": "code",
     "collapsed": false,
     "input": [
      "plt = plot_df(monthly_expenses)\n",
      "plt.legend(loc='lower center', ncol=4, bbox_to_anchor=(0.5,-0.55))\n",
      "plt"
     ],
     "language": "python",
     "metadata": {},
     "outputs": []
    },
    {
     "cell_type": "code",
     "collapsed": false,
     "input": [
      "total_monthly_expenses = monthly_expenses.sum(axis=1) # axis=1 means sum columns\n",
      "plot_df(total_monthly_expenses)"
     ],
     "language": "python",
     "metadata": {},
     "outputs": []
    },
    {
     "cell_type": "code",
     "collapsed": false,
     "input": [
      "income = -gnucash_pandas.daily(df, 'Income')\n",
      "income"
     ],
     "language": "python",
     "metadata": {},
     "outputs": []
    },
    {
     "cell_type": "code",
     "collapsed": false,
     "input": [
      "monthly_income = pd.rolling_sum(income, 31)\n",
      "monthly_income"
     ],
     "language": "python",
     "metadata": {},
     "outputs": []
    },
    {
     "cell_type": "code",
     "collapsed": false,
     "input": [
      "plt = plot_df(monthly_income)\n",
      "plt.legend(loc='lower center', ncol=4, bbox_to_anchor=(0.5,-0.25))\n",
      "plt"
     ],
     "language": "python",
     "metadata": {},
     "outputs": []
    },
    {
     "cell_type": "code",
     "collapsed": false,
     "input": [
      "total_monthly_income = monthly_income.sum(axis=1) # axis=1 means sum columns\n",
      "plot_df(total_monthly_income)"
     ],
     "language": "python",
     "metadata": {},
     "outputs": []
    },
    {
     "cell_type": "code",
     "collapsed": false,
     "input": [
      "pct_expenses = total_monthly_expenses/total_monthly_income\n",
      "plot_df(pct_expenses, ylim=(0,2))"
     ],
     "language": "python",
     "metadata": {},
     "outputs": []
    },
    {
     "cell_type": "code",
     "collapsed": false,
     "input": [
      "taxes = [\n",
      "    \"CA Private Disability Employee\",\n",
      "    \"CA State Income Tax\",\n",
      "    \"Employee Medicare\",\n",
      "    \"Federal Income Tax\",\n",
      "    \"Social Security Employee Tax\", \n",
      "    \"Taxes\",\n",
      "]\n",
      "tax_free_expenses = monthly_expenses.drop(taxes, axis=1)\n",
      "tax_free_expenses"
     ],
     "language": "python",
     "metadata": {},
     "outputs": []
    },
    {
     "cell_type": "code",
     "collapsed": false,
     "input": [
      "plt = plot_df(tax_free_expenses)\n",
      "plt.legend(loc='lower center', ncol=4, bbox_to_anchor=(0.5,-0.55))\n",
      "plt"
     ],
     "language": "python",
     "metadata": {},
     "outputs": []
    },
    {
     "cell_type": "code",
     "collapsed": false,
     "input": [
      "total_tax_free_expenses = tax_free_expenses.sum(axis=1) # axis=1 means sum columns\n",
      "plot_df(total_tax_free_expenses)"
     ],
     "language": "python",
     "metadata": {},
     "outputs": []
    },
    {
     "cell_type": "code",
     "collapsed": false,
     "input": [
      "total_tax_expenses = total_monthly_expenses - total_tax_free_expenses\n",
      "total_after_tax_income = total_monthly_income - total_tax_expenses\n",
      "plot_df(total_after_tax_income)"
     ],
     "language": "python",
     "metadata": {},
     "outputs": []
    },
    {
     "cell_type": "code",
     "collapsed": false,
     "input": [
      "after_tax_pct_expenses = total_tax_free_expenses/total_after_tax_income\n",
      "plot_df(after_tax_pct_expenses, ylim=(0,2))"
     ],
     "language": "python",
     "metadata": {},
     "outputs": []
    },
    {
     "cell_type": "code",
     "collapsed": false,
     "input": [],
     "language": "python",
     "metadata": {},
     "outputs": []
    }
   ],
   "metadata": {}
  }
 ]
}