{
 "cells": [
  {
   "cell_type": "code",
   "execution_count": null,
   "metadata": {
    "collapsed": false
   },
   "outputs": [],
   "source": [
    "%pylab inline\n",
    "import gnucash_pandas\n",
    "import matplotlib.pyplot as plt\n",
    "import pandas as pd\n",
    "\n",
    "def plot_df(df, **kwargs):\n",
    "    return df.loc[df.index > '2015-01-01'].plot(figsize=(16,8), grid=True, **kwargs)"
   ]
  },
  {
   "cell_type": "code",
   "execution_count": null,
   "metadata": {
    "collapsed": false
   },
   "outputs": [],
   "source": [
    "gnucash_file = raw_input(\"Path to GnuCash file to load \")\n",
    "df = gnucash_pandas.splits_dataframe(gnucash_file)"
   ]
  },
  {
   "cell_type": "code",
   "execution_count": null,
   "metadata": {
    "collapsed": false
   },
   "outputs": [],
   "source": [
    "expenses = gnucash_pandas.daily(df, 'Expense')\n",
    "expenses"
   ]
  },
  {
   "cell_type": "code",
   "execution_count": null,
   "metadata": {
    "collapsed": false
   },
   "outputs": [],
   "source": [
    "monthly_expenses = pd.rolling_sum(expenses, 31)\n",
    "monthly_expenses"
   ]
  },
  {
   "cell_type": "markdown",
   "metadata": {},
   "source": [
    "# Monthly Expenses\n",
    "\n",
    "This plot displays rolling 32-day expenses by category."
   ]
  },
  {
   "cell_type": "code",
   "execution_count": null,
   "metadata": {
    "collapsed": false,
    "scrolled": false
   },
   "outputs": [],
   "source": [
    "plt = plot_df(monthly_expenses)\n",
    "plt.legend(loc='lower center', ncol=4, bbox_to_anchor=(0.5,-0.55))\n",
    "plt"
   ]
  },
  {
   "cell_type": "markdown",
   "metadata": {},
   "source": [
    "# Total Monthly Expenses"
   ]
  },
  {
   "cell_type": "code",
   "execution_count": null,
   "metadata": {
    "collapsed": false
   },
   "outputs": [],
   "source": [
    "total_monthly_expenses = monthly_expenses.sum(axis=1) # axis=1 means sum columns\n",
    "plot_df(total_monthly_expenses)"
   ]
  },
  {
   "cell_type": "code",
   "execution_count": null,
   "metadata": {
    "collapsed": false
   },
   "outputs": [],
   "source": [
    "income = -gnucash_pandas.daily(df, 'Income')\n",
    "income"
   ]
  },
  {
   "cell_type": "code",
   "execution_count": null,
   "metadata": {
    "collapsed": false
   },
   "outputs": [],
   "source": [
    "monthly_income = pd.rolling_sum(income, 31)\n",
    "monthly_income"
   ]
  },
  {
   "cell_type": "markdown",
   "metadata": {},
   "source": [
    "# Monthly Income"
   ]
  },
  {
   "cell_type": "code",
   "execution_count": null,
   "metadata": {
    "collapsed": false
   },
   "outputs": [],
   "source": [
    "plt = plot_df(monthly_income)\n",
    "plt.legend(loc='lower center', ncol=4, bbox_to_anchor=(0.5,-0.25))\n",
    "plt"
   ]
  },
  {
   "cell_type": "markdown",
   "metadata": {},
   "source": [
    "# Total Monthly Income"
   ]
  },
  {
   "cell_type": "code",
   "execution_count": null,
   "metadata": {
    "collapsed": false
   },
   "outputs": [],
   "source": [
    "total_monthly_income = monthly_income.sum(axis=1) # axis=1 means sum columns\n",
    "plot_df(total_monthly_income)"
   ]
  },
  {
   "cell_type": "markdown",
   "metadata": {},
   "source": [
    "# Percentage of income spent\n",
    "\n",
    "This is the proportion of monthly income spent on monthly expenses."
   ]
  },
  {
   "cell_type": "code",
   "execution_count": null,
   "metadata": {
    "collapsed": false
   },
   "outputs": [],
   "source": [
    "pct_expenses = total_monthly_expenses/total_monthly_income\n",
    "plot_df(pct_expenses, ylim=(0,2))"
   ]
  },
  {
   "cell_type": "code",
   "execution_count": null,
   "metadata": {
    "collapsed": false
   },
   "outputs": [],
   "source": [
    "taxes = [\n",
    "    \"CA Private Disability Employee\",\n",
    "    \"CA State Income Tax\",\n",
    "    \"Employee Medicare\",\n",
    "    \"Federal Income Tax\",\n",
    "    \"Social Security Employee Tax\", \n",
    "    \"Taxes\",\n",
    "]\n",
    "tax_free_expenses = monthly_expenses.drop(taxes, axis=1)\n",
    "tax_free_expenses"
   ]
  },
  {
   "cell_type": "markdown",
   "metadata": {},
   "source": [
    "# Monthly after-tax expenses"
   ]
  },
  {
   "cell_type": "code",
   "execution_count": null,
   "metadata": {
    "collapsed": false
   },
   "outputs": [],
   "source": [
    "plt = plot_df(tax_free_expenses)\n",
    "plt.legend(loc='lower center', ncol=4, bbox_to_anchor=(0.5,-0.55))\n",
    "plt"
   ]
  },
  {
   "cell_type": "markdown",
   "metadata": {},
   "source": [
    "# Total after-tax expenses"
   ]
  },
  {
   "cell_type": "code",
   "execution_count": null,
   "metadata": {
    "collapsed": false
   },
   "outputs": [],
   "source": [
    "total_tax_free_expenses = tax_free_expenses.sum(axis=1) # axis=1 means sum columns\n",
    "plot_df(total_tax_free_expenses)"
   ]
  },
  {
   "cell_type": "markdown",
   "metadata": {},
   "source": [
    "# Total after-tax income"
   ]
  },
  {
   "cell_type": "code",
   "execution_count": null,
   "metadata": {
    "collapsed": false
   },
   "outputs": [],
   "source": [
    "total_tax_expenses = total_monthly_expenses - total_tax_free_expenses\n",
    "total_after_tax_income = total_monthly_income - total_tax_expenses\n",
    "plot_df(total_after_tax_income)"
   ]
  },
  {
   "cell_type": "markdown",
   "metadata": {},
   "source": [
    "# Percentage of after-tax income spent"
   ]
  },
  {
   "cell_type": "code",
   "execution_count": null,
   "metadata": {
    "collapsed": false
   },
   "outputs": [],
   "source": [
    "after_tax_pct_expenses = total_tax_free_expenses/total_after_tax_income\n",
    "plot_df(after_tax_pct_expenses, ylim=(0,2))"
   ]
  },
  {
   "cell_type": "code",
   "execution_count": null,
   "metadata": {
    "collapsed": false
   },
   "outputs": [],
   "source": []
  }
 ],
 "metadata": {
  "kernelspec": {
   "display_name": "Python 2",
   "language": "python",
   "name": "python2"
  },
  "language_info": {
   "codemirror_mode": {
    "name": "ipython",
    "version": 2
   },
   "file_extension": ".py",
   "mimetype": "text/x-python",
   "name": "python",
   "nbconvert_exporter": "python",
   "pygments_lexer": "ipython2",
   "version": "2.7.12+"
  }
 },
 "nbformat": 4,
 "nbformat_minor": 0
}
